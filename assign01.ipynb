{
  "nbformat": 4,
  "nbformat_minor": 0,
  "metadata": {
    "colab": {
      "provenance": [],
      "authorship_tag": "ABX9TyMykH+x46lPrwSWG9UmqGQe",
      "include_colab_link": true
    },
    "kernelspec": {
      "name": "python3",
      "display_name": "Python 3"
    },
    "language_info": {
      "name": "python"
    }
  },
  "cells": [
    {
      "cell_type": "markdown",
      "metadata": {
        "id": "view-in-github",
        "colab_type": "text"
      },
      "source": [
        "<a href=\"https://colab.research.google.com/github/JW-1211/Practice/blob/main/assign01.ipynb\" target=\"_parent\"><img src=\"https://colab.research.google.com/assets/colab-badge.svg\" alt=\"Open In Colab\"/></a>"
      ]
    },
    {
      "cell_type": "code",
      "execution_count": 3,
      "metadata": {
        "colab": {
          "base_uri": "https://localhost:8080/"
        },
        "id": "XbOJctOJGe4h",
        "outputId": "4660a978-6aea-46dc-b63c-dcd572353813"
      },
      "outputs": [
        {
          "output_type": "stream",
          "name": "stdout",
          "text": [
            "Current Time in Seoul: 16:31:45\n"
          ]
        }
      ],
      "source": [
        "from datetime import datetime\n",
        "import pytz  # Import the pytz module for timezone calculations\n",
        "seoul_timezone = pytz.timezone('Asia/Seoul')\n",
        "now_seoul = datetime.now(seoul_timezone)\n",
        "current_time_seoul = now_seoul.strftime(\"%H:%M:%S\")\n",
        "print(\"Current Time in Seoul:\", current_time_seoul)"
      ]
    },
    {
      "cell_type": "markdown",
      "source": [],
      "metadata": {
        "id": "c8Z4SqIYGxMR"
      }
    }
  ]
}